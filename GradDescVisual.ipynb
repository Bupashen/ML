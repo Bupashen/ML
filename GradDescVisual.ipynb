{
 "cells": [
  {
   "cell_type": "code",
   "execution_count": 2,
   "id": "354fbbba",
   "metadata": {},
   "outputs": [],
   "source": [
    "import numpy as np\n",
    "import matplotlib.pyplot as plt\n",
    "import math\n",
    "from sympy import symbols, diff"
   ]
  },
  {
   "cell_type": "code",
   "execution_count": 3,
   "id": "baeb55b1",
   "metadata": {},
   "outputs": [],
   "source": [
    "def f(x):\n",
    "    return 2*x[0]**2 + x[0]*x[1] + x[1]**2 - 3*x[0]"
   ]
  },
  {
   "cell_type": "code",
   "execution_count": 4,
   "id": "67c84423",
   "metadata": {},
   "outputs": [],
   "source": [
    "x1, x2 = symbols('x1, x2')\n",
    "f_sy = 2*x1**2 + x1*x2 +x2**2 - 3*x1"
   ]
  },
  {
   "cell_type": "code",
   "execution_count": 10,
   "id": "dc9854cc",
   "metadata": {},
   "outputs": [],
   "source": [
    "def find_grad(f, x):\n",
    "    df_dx1 = diff(f, x1).subs({x1: x[0], x2: x[1]})\n",
    "    df_dx2 = diff(f, x2).subs({x1: x[0], x2: x[1]})\n",
    "    df = np.array([df_dx1, df_dx2], dtype=float)\n",
    "    return df"
   ]
  },
  {
   "cell_type": "code",
   "execution_count": 6,
   "id": "bd3a2a22",
   "metadata": {},
   "outputs": [],
   "source": [
    "def norma(x):\n",
    "    y = 0\n",
    "    for i, x_i in enumerate(x):\n",
    "        y += (x_i**2)\n",
    "    y = math.sqrt(y)\n",
    "    return y"
   ]
  },
  {
   "cell_type": "code",
   "execution_count": 7,
   "id": "1c1611a9",
   "metadata": {},
   "outputs": [
    {
     "name": "stdout",
     "output_type": "stream",
     "text": [
      "Initial values of x and f(x)\n",
      "\tx: [-3.7  1.6]\n",
      "\tf(x): 35.120000000000005\n"
     ]
    }
   ],
   "source": [
    "#x = np.random.rand(2)\n",
    "x = np.array([-3.7, 1.6])\n",
    "x_s = np.zeros(x.shape)\n",
    "x_history = []\n",
    "\n",
    "x_history.append(x) \n",
    "\n",
    "print(\"Initial values of x and f(x)\")\n",
    "print(\"\\tx: \" + str(x))\n",
    "print(\"\\tf(x): \" + str(f(x)))"
   ]
  },
  {
   "cell_type": "code",
   "execution_count": 8,
   "id": "b155d5aa",
   "metadata": {},
   "outputs": [],
   "source": [
    "def SGD(w, lr, grad):\n",
    "    return w - lr*grad\n",
    "\n",
    "\n",
    "def SGD_momentum(w, lr, grad, v, mu):\n",
    "    v_next = mu*v + grad\n",
    "    w_next = w - lr*v\n",
    "    return w_next, v_next\n",
    "\n",
    "\n",
    "def Adagrad(w, lr, grad, acc):\n",
    "    acc_next = acc + grad**2\n",
    "    w_next = w - grad/(np.sqrt(acc_next) + 1e-10)\n",
    "    return w_next, acc_next"
   ]
  },
  {
   "cell_type": "code",
   "execution_count": 9,
   "id": "4914ca30",
   "metadata": {},
   "outputs": [],
   "source": [
    "def lr_scheduler(gamma, step_size, lr, epoch):\n",
    "    if epoch % step_size == 0:\n",
    "        return lr * gamma\n",
    "    return lr"
   ]
  },
  {
   "cell_type": "code",
   "execution_count": 11,
   "id": "263cadf7",
   "metadata": {},
   "outputs": [
    {
     "name": "stdout",
     "output_type": "stream",
     "text": [
      "epoch: 1\n",
      "\tx: [-2.08  1.65]\n",
      "\tf(x): 14.183300000000001\n",
      "epoch: 2\n",
      "\tx: [-1.113  1.528]\n",
      "\tf(x): 6.450658000000001\n",
      "epoch: 3\n",
      "\tx: [-0.5206  1.3337]\n",
      "\tf(x): 3.18828019\n",
      "epoch: 4\n",
      "\tx: [-0.14573  1.11902]\n",
      "\tf(x): 1.5687954415999998\n",
      "epoch: 5\n",
      "\tx: [0.10066  0.909789]\n",
      "\tf(x): 0.6375802564609999\n",
      "epoch: 6\n",
      "\tx: [0.2694171 0.7177652]\n",
      "\tf(x): 0.04548494854078011\n",
      "epoch: 7\n",
      "\tx: [0.38987374 0.54727045]\n",
      "\tf(x): -0.3527468311406394\n",
      "epoch: 8\n",
      "\tx: [0.4791972  0.39882899]\n",
      "\tf(x): -0.6281493928961104\n",
      "epoch: 9\n",
      "\tx: [0.54763542 0.27114347]\n",
      "\tf(x): -0.8210906057550654\n",
      "epoch: 10\n",
      "\tx: [0.60146691 0.16215123]\n",
      "\tf(x): -0.9570542169794157\n",
      "epoch: 11\n",
      "\tx: [0.64466502 0.0695743 ]\n",
      "\tf(x): -1.0531163865077102\n",
      "epoch: 12\n",
      "\tx: [ 0.67984158 -0.00880707]\n",
      "\tf(x): -1.1210654377071116\n",
      "epoch: 13\n",
      "\tx: [ 0.70878566 -0.07502981]\n",
      "\tf(x): -1.1691533366817004\n",
      "epoch: 14\n",
      "\tx: [ 0.73277437 -0.13090241]\n",
      "\tf(x): -1.2031930482258337\n",
      "epoch: 15\n",
      "\tx: [ 0.75275487 -0.17799937]\n",
      "\tf(x): -1.2272909371173628\n",
      "epoch: 16\n",
      "\tx: [ 0.76945286 -0.21767498]\n",
      "\tf(x): -1.2443514115066234\n",
      "epoch: 17\n",
      "\tx: [ 0.78343921 -0.25108527]\n",
      "\tf(x): -1.2564298717275306\n",
      "epoch: 18\n",
      "\tx: [ 0.79517205 -0.27921214]\n",
      "\tf(x): -1.264981242360268\n",
      "epoch: 19\n",
      "\tx: [ 0.80502445 -0.30288692]\n",
      "\tf(x): -1.2710355085428617\n",
      "epoch: 20\n",
      "\tx: [ 0.81330336 -0.32281198]\n",
      "\tf(x): -1.2753218622763358\n",
      "epoch: 21\n",
      "\tx: [ 0.82026321 -0.33957992]\n",
      "\tf(x): -1.2783565556847443\n",
      "epoch: 22\n",
      "\tx: [ 0.82611592 -0.35369026]\n",
      "\tf(x): -1.2805050874215966\n",
      "epoch: 23\n",
      "\tx: [ 0.83103858 -0.3655638 ]\n",
      "\tf(x): -1.2820262260192685\n",
      "epoch: 24\n",
      "\tx: [ 0.83517953 -0.37555489]\n",
      "\tf(x): -1.2831031767282228\n",
      "epoch: 25\n",
      "\tx: [ 0.83866321 -0.38396187]\n",
      "\tf(x): -1.2838656469351313\n",
      "epoch: 26\n",
      "\tx: [ 0.84159411 -0.39103582]\n",
      "\tf(x): -1.2844054681345696\n",
      "epoch: 27\n",
      "\tx: [ 0.84406005 -0.39698806]\n",
      "\tf(x): -1.2847876560892901\n",
      "epoch: 28\n",
      "\tx: [ 0.84613483 -0.40199646]\n",
      "\tf(x): -1.2850582413001497\n",
      "epoch: 29\n",
      "\tx: [ 0.84788055 -0.40621065]\n",
      "\tf(x): -1.2852498128960284\n",
      "epoch: 30\n",
      "\tx: [ 0.84934939 -0.40975657]\n",
      "\tf(x): -1.2853854436507461\n",
      "epoch: 31\n",
      "\tx: [ 0.85058529 -0.4127402 ]\n",
      "\tf(x): -1.285481468855028\n",
      "epoch: 32\n",
      "\tx: [ 0.8516252  -0.41525069]\n",
      "\tf(x): -1.2855494537296788\n",
      "epoch: 33\n",
      "\tx: [ 0.85250019 -0.41736307]\n",
      "\tf(x): -1.2855975863341966\n",
      "epoch: 34\n",
      "\tx: [ 0.85323642 -0.41914047]\n",
      "\tf(x): -1.285631663731995\n",
      "epoch: 35\n",
      "\tx: [ 0.8538559  -0.42063602]\n",
      "\tf(x): -1.2856557901854109\n",
      "epoch: 36\n",
      "\tx: [ 0.85437714 -0.42189441]\n",
      "\tf(x): -1.2856728714707208\n",
      "epoch: 37\n",
      "\tx: [ 0.85481573 -0.42295324]\n",
      "\tf(x): -1.2856849648481783\n",
      "epoch: 38\n",
      "\tx: [ 0.85518476 -0.42384416]\n",
      "\tf(x): -1.2856935268372593\n"
     ]
    }
   ],
   "source": [
    "MU = 0.1\n",
    "GAMMA = 0.5\n",
    "LR_STEP_SIZE = 5\n",
    "lr = 0.1\n",
    "epoches = 200\n",
    "eps = 1e-1\n",
    "eps1 = 1e-3\n",
    "eps2 = 1e-3\n",
    "v = np.zeros_like(x)\n",
    "acc = np.zeros_like(x)\n",
    "\n",
    "for epoch in range(epoches):\n",
    "    grad = find_grad(f_sy, x)\n",
    "    if norma(grad) < eps1:\n",
    "        x_s = x\n",
    "        break\n",
    "    \n",
    "    new_x = SGD(x, lr, grad)        \n",
    "    #new_x, v = SGD_momentum(x, lr, grad, v, MU)\n",
    "    #new_x, acc = Adagrad(x, lr, grad, acc)\n",
    "    \n",
    "    #lr = lr_scheduler(GAMMA, LR_STEP_SIZE, lr, epoch + 1)\n",
    "    \n",
    "    if (epoch == 0):\n",
    "        old_x = x\n",
    "    else:\n",
    "        Dx_k = norma(new_x - x)\n",
    "        Df_k = math.sqrt((f(new_x) - f(x))**2)\n",
    "        Dx_km1 = norma(x - old_x)\n",
    "        Df_km1 = math.sqrt((f(x) - f(old_x))**2)\n",
    "        \n",
    "        condition_k = (Dx_k < eps2) & (Df_k < eps2)\n",
    "        condition_km1 = (Dx_km1 < eps2) & (Df_km1 < eps2)\n",
    "        \n",
    "        if (condition_k == True) & (condition_km1 == True):\n",
    "            x_s = new_x\n",
    "            break\n",
    "        else:\n",
    "            old_x = x\n",
    "            x = new_x\n",
    "            x_history.append(new_x)\n",
    "            print(\"epoch: \" + str(epoch))\n",
    "            print(\"\\tx: \" + str(new_x))\n",
    "            print(\"\\tf(x): \" + str(f(new_x)))"
   ]
  },
  {
   "cell_type": "code",
   "execution_count": 12,
   "id": "47a2fcf5",
   "metadata": {},
   "outputs": [],
   "source": [
    "new_x_history = np.array(x_history)\n",
    "\n",
    "x1 = new_x_history[:, 0]\n",
    "x2 = new_x_history[:, 1]\n",
    "\n",
    "xp1 = np.linspace(-x1[x1.size - 1] * 5, x1[x1.size - 1] * 5, 100)\n",
    "xp2 = np.linspace(-x2[x2.size - 1] * 5, x2[x2.size - 1] * 5, 100)\n",
    "mse_vals = np.zeros(shape=(xp1.size, xp2.size))"
   ]
  },
  {
   "cell_type": "code",
   "execution_count": 13,
   "id": "9c1887f0",
   "metadata": {},
   "outputs": [],
   "source": [
    "for i, value1 in enumerate(xp1):\n",
    "    for j, value2 in enumerate(xp2):\n",
    "        x_temp = np.array([value1, value2])\n",
    "        mse_vals[i, j] = f(x_temp)"
   ]
  },
  {
   "cell_type": "code",
   "execution_count": 14,
   "id": "6ed27ce8",
   "metadata": {},
   "outputs": [
    {
     "data": {
      "image/png": "[encoded data removed]",
      "text/plain": [
       "<Figure size 432x288 with 1 Axes>"
      ]
     },
     "metadata": {
      "needs_background": "light"
     },
     "output_type": "display_data"
    }
   ],
   "source": [
    "plt.contourf(xp1, xp2, mse_vals, alpha=.7)\n",
    "plt.axhline(0, color='black', alpha=.5, dashes=[2, 4],linewidth=1)\n",
    "plt.axvline(0, color='black', alpha=.5, dashes=[2, 4],linewidth=1)\n",
    "for i in range(len(new_x_history) - 1):\n",
    "    plt.annotate('', xy=new_x_history[i + 1, :], xytext=new_x_history[i, :],\n",
    "                 arrowprops={'arrowstyle': '->', 'color': 'r', 'lw': 1},\n",
    "                 va='center', ha='center')\n",
    " \n",
    "CS = plt.contour(xp1, xp2, mse_vals, linewidths=1,colors='black')\n",
    "plt.clabel(CS, inline=1, fontsize=8)\n",
    "plt.title(\"Contour Plot of Gradient Descent\")\n",
    "plt.xlabel(\"x1\")\n",
    "plt.ylabel(\"x2\")\n",
    "plt.show()"
   ]
  },
  {
   "cell_type": "code",
   "execution_count": 15,
   "id": "3dcdfea2",
   "metadata": {},
   "outputs": [
    {
     "name": "stdout",
     "output_type": "stream",
     "text": [
      "x*: [ 0.85549527 -0.42459381]\n",
      "f(x*): -1.285699588639042\n"
     ]
    }
   ],
   "source": [
    "print(\"x*: \" + str(x_s))\n",
    "print(\"f(x*): \" + str(f(x_s)))"
   ]
  },
  {
   "cell_type": "code",
   "execution_count": null,
   "id": "24621a0f",
   "metadata": {},
   "outputs": [],
   "source": []
  }
 ],
 "metadata": {
  "kernelspec": {
   "display_name": "Python 3",
   "language": "python",
   "name": "python3"
  },
  "language_info": {
   "codemirror_mode": {
    "name": "ipython",
    "version": 3
   },
   "file_extension": ".py",
   "mimetype": "text/x-python",
   "name": "python",
   "nbconvert_exporter": "python",
   "pygments_lexer": "ipython3",
   "version": "3.8.8"
  }
 },
 "nbformat": 4,
 "nbformat_minor": 5
}
