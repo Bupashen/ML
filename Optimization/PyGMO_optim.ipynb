{
  "nbformat": 4,
  "nbformat_minor": 0,
  "metadata": {
    "colab": {
      "name": "PyGMO_optim.ipynb",
      "provenance": [],
      "collapsed_sections": []
    },
    "kernelspec": {
      "name": "python3",
      "display_name": "Python 3"
    },
    "language_info": {
      "name": "python"
    }
  },
  "cells": [
    {
      "cell_type": "code",
      "execution_count": 1,
      "metadata": {
        "id": "AfYlj7LWzbR1",
        "colab": {
          "base_uri": "https://localhost:8080/"
        },
        "outputId": "9e416535-9818-4434-b540-761f848993a9"
      },
      "outputs": [
        {
          "output_type": "stream",
          "name": "stdout",
          "text": [
            "Collecting pygmo\n",
            "  Downloading pygmo-2.16.1-cp37-cp37m-manylinux2010_x86_64.whl (11.5 MB)\n",
            "\u001b[K     |████████████████████████████████| 11.5 MB 23.4 MB/s \n",
            "\u001b[?25hRequirement already satisfied: cloudpickle in /usr/local/lib/python3.7/dist-packages (from pygmo) (1.3.0)\n",
            "Requirement already satisfied: numpy in /usr/local/lib/python3.7/dist-packages (from pygmo) (1.19.5)\n",
            "Installing collected packages: pygmo\n",
            "Successfully installed pygmo-2.16.1\n"
          ]
        }
      ],
      "source": [
        "pip install pygmo"
      ]
    },
    {
      "cell_type": "code",
      "source": [
        "import pygmo as pg"
      ],
      "metadata": {
        "id": "d7mXAKefm1fr"
      },
      "execution_count": 2,
      "outputs": []
    },
    {
      "cell_type": "code",
      "source": [
        "class func_to_optim:\n",
        "    def fitness(self, x):\n",
        "        f = 2*x[0]**2 + x[0]*x[1] + x[1]**2 - 3*x[0]\n",
        "        return [f]\n",
        "\n",
        "    def get_bounds(self):\n",
        "        return ([-5, -5], [5, 5])"
      ],
      "metadata": {
        "id": "xkJ5kWLWm5n4"
      },
      "execution_count": 16,
      "outputs": []
    },
    {
      "cell_type": "code",
      "source": [
        "prob = pg.problem(func_to_optim())\n",
        "algo = pg.algorithm(pg.bee_colony(gen=10, limit=20))\n",
        "pop = pg.population(prob, 10)\n",
        "pop = algo.evolve(pop)\n",
        "print(pop.champion_f)\n",
        "print(pop.champion_x)"
      ],
      "metadata": {
        "colab": {
          "base_uri": "https://localhost:8080/"
        },
        "id": "5VZMdl3ioBP7",
        "outputId": "36baf296-0f97-48cf-bfd7-0ad1560bdcc2"
      },
      "execution_count": 19,
      "outputs": [
        {
          "output_type": "stream",
          "name": "stdout",
          "text": [
            "[-1.28486809]\n",
            "[ 0.85290348 -0.39790803]\n"
          ]
        }
      ]
    },
    {
      "cell_type": "code",
      "source": [
        ""
      ],
      "metadata": {
        "id": "XVc3p5T1oe21"
      },
      "execution_count": null,
      "outputs": []
    }
  ]
}