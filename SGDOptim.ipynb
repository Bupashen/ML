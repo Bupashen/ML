{
 "cells": [
  {
   "cell_type": "code",
   "execution_count": 2,
   "id": "5dd63be3",
   "metadata": {},
   "outputs": [],
   "source": [
    "import torch\n",
    "from torch import nn\n",
    "from torch import optim\n",
    "from torch.utils.data import DataLoader\n",
    "from torch.utils.data import Dataset\n",
    "from torchvision import datasets\n",
    "from torchvision.transforms import ToTensor, Lambda, Compose\n",
    "import matplotlib.pyplot as plt"
   ]
  },
  {
   "cell_type": "code",
   "execution_count": 3,
   "id": "0272c054",
   "metadata": {},
   "outputs": [],
   "source": [
    "training_data = datasets.FashionMNIST(\n",
    "    root=\"data\",\n",
    "    train=True,\n",
    "    download=True,\n",
    "    transform=ToTensor(),\n",
    ")\n",
    "\n",
    "test_data = datasets.FashionMNIST(\n",
    "    root=\"data\",\n",
    "    train=False,\n",
    "    download=True,\n",
    "    transform=ToTensor(),\n",
    ")"
   ]
  },
  {
   "cell_type": "code",
   "execution_count": 4,
   "id": "68948d18",
   "metadata": {},
   "outputs": [],
   "source": [
    "batch_size = 64\n",
    "\n",
    "train_dataloader = DataLoader(training_data, batch_size=batch_size)\n",
    "test_dataloader = DataLoader(test_data, batch_size=batch_size)"
   ]
  },
  {
   "cell_type": "code",
   "execution_count": 5,
   "id": "d9acbf49",
   "metadata": {
    "scrolled": true
   },
   "outputs": [
    {
     "name": "stdout",
     "output_type": "stream",
     "text": [
      "Shape of X [N, C, H, W]:  torch.Size([64, 1, 28, 28])\n",
      "Shape of y:  torch.Size([64]) torch.int64\n"
     ]
    }
   ],
   "source": [
    "for X, y in test_dataloader:\n",
    "    print(\"Shape of X [N, C, H, W]: \", X.shape)\n",
    "    print(\"Shape of y: \", y.shape, y.dtype)\n",
    "    break"
   ]
  },
  {
   "cell_type": "code",
   "execution_count": 6,
   "id": "b4931cea",
   "metadata": {},
   "outputs": [
    {
     "name": "stdout",
     "output_type": "stream",
     "text": [
      "Using cpu device\n"
     ]
    }
   ],
   "source": [
    "device = \"cuda\" if torch.cuda.is_available() else \"cpu\"\n",
    "print(\"Using {} device\".format(device))"
   ]
  },
  {
   "cell_type": "code",
   "execution_count": 17,
   "id": "1f13b4d1",
   "metadata": {},
   "outputs": [
    {
     "name": "stdout",
     "output_type": "stream",
     "text": [
      "NeuralNetwork(\n",
      "  (flatten): Flatten(start_dim=1, end_dim=-1)\n",
      "  (linear_relu_stack): Sequential(\n",
      "    (0): Linear(in_features=784, out_features=512, bias=True)\n",
      "    (1): ReLU()\n",
      "    (2): Linear(in_features=512, out_features=512, bias=True)\n",
      "    (3): ReLU()\n",
      "    (4): Linear(in_features=512, out_features=10, bias=True)\n",
      "  )\n",
      ")\n"
     ]
    }
   ],
   "source": [
    "class NeuralNetwork(nn.Module):\n",
    "    def __init__(self):\n",
    "        super(NeuralNetwork, self).__init__()\n",
    "        self.flatten = nn.Flatten()\n",
    "        self.linear_relu_stack = nn.Sequential(\n",
    "            nn.Linear(28*28, 512),\n",
    "            nn.ReLU(),\n",
    "            nn.Linear(512, 512),\n",
    "            nn.ReLU(),\n",
    "            nn.Linear(512, 10)\n",
    "        )\n",
    "    def forward(self, x):\n",
    "        x = self.flatten(x)\n",
    "        logits = self.linear_relu_stack(x)\n",
    "        return logits\n",
    "    \n",
    "model = NeuralNetwork().to(device)\n",
    "print(model)"
   ]
  },
  {
   "cell_type": "code",
   "execution_count": 18,
   "id": "e334f489",
   "metadata": {},
   "outputs": [],
   "source": [
    "loss_fn = nn.CrossEntropyLoss()\n",
    "#optimizer = optim.SGD(model.parameters(), lr=1e-3)\n",
    "optimizer = optim.SGD(model.parameters(), lr=1e-3, momentum=0.9)"
   ]
  },
  {
   "cell_type": "code",
   "execution_count": 19,
   "id": "eb35783f",
   "metadata": {},
   "outputs": [],
   "source": [
    "def train(dataloader, model, loss_fn, optimizer):\n",
    "    size = len(dataloader.dataset)\n",
    "    model.train()\n",
    "    for batch, (X, y) in enumerate(dataloader):\n",
    "        X, y = X.to(device), y.to(device)\n",
    "        \n",
    "        pred = model(X)\n",
    "        loss = loss_fn(pred, y)\n",
    "        \n",
    "        optimizer.zero_grad()\n",
    "        loss.backward()\n",
    "        optimizer.step()\n",
    "        \n",
    "        if batch % 100 == 0:\n",
    "            loss, current = loss.item(), batch * len(X)\n",
    "            print(f\"loss: {loss:>7f}  [{current:>5d}/{size:>5d}]\")"
   ]
  },
  {
   "cell_type": "code",
   "execution_count": 20,
   "id": "279f60eb",
   "metadata": {},
   "outputs": [],
   "source": [
    "def test(dataloader, model, loss_fn):\n",
    "    size = len(dataloader.dataset)\n",
    "    num_batches = len(dataloader)\n",
    "    model.eval()\n",
    "    test_loss, correct = 0, 0\n",
    "    with torch.no_grad():\n",
    "        for X, y in dataloader:\n",
    "            X, y = X.to(device), y.to(device)\n",
    "            \n",
    "            pred = model(X)\n",
    "            test_loss = loss_fn(pred, y).item()\n",
    "            correct += (pred.argmax(1) == y).type(torch.float).sum().item()\n",
    "    test_loss /= num_batches\n",
    "    correct /= size\n",
    "    print(f\"Test Error: \\n Accuracy: {(100*correct):>0.1f}%, Avg loss: {test_loss:>8f} \\n\")"
   ]
  },
  {
   "cell_type": "code",
   "execution_count": 21,
   "id": "8a94620e",
   "metadata": {},
   "outputs": [
    {
     "name": "stdout",
     "output_type": "stream",
     "text": [
      "Epoch 1\n",
      "-------------------------------\n",
      "loss: 2.298770  [    0/60000]\n",
      "loss: 2.181111  [ 6400/60000]\n",
      "loss: 1.853612  [12800/60000]\n",
      "loss: 1.549363  [19200/60000]\n",
      "loss: 1.186153  [25600/60000]\n",
      "loss: 1.079465  [32000/60000]\n",
      "loss: 1.011581  [38400/60000]\n",
      "loss: 0.878268  [44800/60000]\n",
      "loss: 0.857198  [51200/60000]\n",
      "loss: 0.800022  [57600/60000]\n",
      "Test Error: \n",
      " Accuracy: 70.6%, Avg loss: 0.003722 \n",
      "\n",
      "Epoch 2\n",
      "-------------------------------\n",
      "loss: 0.790509  [    0/60000]\n",
      "loss: 0.862580  [ 6400/60000]\n",
      "loss: 0.585196  [12800/60000]\n",
      "loss: 0.812505  [19200/60000]\n",
      "loss: 0.679537  [25600/60000]\n",
      "loss: 0.646616  [32000/60000]\n",
      "loss: 0.701953  [38400/60000]\n",
      "loss: 0.673140  [44800/60000]\n",
      "loss: 0.668694  [51200/60000]\n",
      "loss: 0.629950  [57600/60000]\n",
      "Test Error: \n",
      " Accuracy: 78.2%, Avg loss: 0.002243 \n",
      "\n",
      "Epoch 3\n",
      "-------------------------------\n",
      "loss: 0.545414  [    0/60000]\n",
      "loss: 0.671902  [ 6400/60000]\n",
      "loss: 0.431004  [12800/60000]\n",
      "loss: 0.699338  [19200/60000]\n",
      "loss: 0.594021  [25600/60000]\n",
      "loss: 0.566635  [32000/60000]\n",
      "loss: 0.584138  [38400/60000]\n",
      "loss: 0.648225  [44800/60000]\n",
      "loss: 0.637421  [51200/60000]\n",
      "loss: 0.543235  [57600/60000]\n",
      "Test Error: \n",
      " Accuracy: 80.4%, Avg loss: 0.001929 \n",
      "\n",
      "Epoch 4\n",
      "-------------------------------\n",
      "loss: 0.447523  [    0/60000]\n",
      "loss: 0.588330  [ 6400/60000]\n",
      "loss: 0.370512  [12800/60000]\n",
      "loss: 0.640978  [19200/60000]\n",
      "loss: 0.542128  [25600/60000]\n",
      "loss: 0.521774  [32000/60000]\n",
      "loss: 0.527005  [38400/60000]\n",
      "loss: 0.663928  [44800/60000]\n",
      "loss: 0.624952  [51200/60000]\n",
      "loss: 0.480753  [57600/60000]\n",
      "Test Error: \n",
      " Accuracy: 81.4%, Avg loss: 0.001786 \n",
      "\n",
      "Epoch 5\n",
      "-------------------------------\n",
      "loss: 0.390365  [    0/60000]\n",
      "loss: 0.544756  [ 6400/60000]\n",
      "loss: 0.337714  [12800/60000]\n",
      "loss: 0.601230  [19200/60000]\n",
      "loss: 0.502451  [25600/60000]\n",
      "loss: 0.491077  [32000/60000]\n",
      "loss: 0.493880  [38400/60000]\n",
      "loss: 0.668078  [44800/60000]\n",
      "loss: 0.609405  [51200/60000]\n",
      "loss: 0.441397  [57600/60000]\n",
      "Test Error: \n",
      " Accuracy: 82.3%, Avg loss: 0.001706 \n",
      "\n",
      "Done!!!\n"
     ]
    }
   ],
   "source": [
    "epoches = 5\n",
    "for epoch in range(epoches):\n",
    "    print(f\"Epoch {epoch+1}\\n-------------------------------\")\n",
    "    train(train_dataloader, model, loss_fn, optimizer)\n",
    "    test(test_dataloader, model, loss_fn)\n",
    "print(\"Done!!!\")"
   ]
  },
  {
   "cell_type": "code",
   "execution_count": null,
   "id": "5b69bb21",
   "metadata": {},
   "outputs": [],
   "source": []
  }
 ],
 "metadata": {
  "kernelspec": {
   "display_name": "Python 3",
   "language": "python",
   "name": "python3"
  },
  "language_info": {
   "codemirror_mode": {
    "name": "ipython",
    "version": 3
   },
   "file_extension": ".py",
   "mimetype": "text/x-python",
   "name": "python",
   "nbconvert_exporter": "python",
   "pygments_lexer": "ipython3",
   "version": "3.8.8"
  }
 },
 "nbformat": 4,
 "nbformat_minor": 5
}
